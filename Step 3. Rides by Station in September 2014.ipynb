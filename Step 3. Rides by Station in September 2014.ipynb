{
 "cells": [
  {
   "cell_type": "code",
   "execution_count": null,
   "metadata": {
    "collapsed": true
   },
   "outputs": [],
   "source": [
    "# Import the Riak client\n",
    "from riak import RiakClient\n",
    "\n",
    "# Instantiate the client with transport_options set to convert from Epoch to dates\n",
    "client = RiakClient(transport_options={'ts_convert_timestamp': True})"
   ]
  },
  {
   "cell_type": "code",
   "execution_count": null,
   "metadata": {
    "collapsed": true
   },
   "outputs": [],
   "source": [
    "# SQL Group By query returns the number of rides starting at a station in September 2014\n",
    "query = \"\"\"\n",
    "SELECT \n",
    "    start_station, count(start_station) \n",
    "FROM Bike_Share_Trip WHERE \n",
    "    start_date > '2014-09-01 00:00:00' AND \n",
    "    start_date < '2014-09-30 23:59:59' \n",
    "GROUP BY \n",
    "    start_station\n",
    "\"\"\"\n",
    "\n",
    "# Use ts_query to execute our query and load the result set into ds\n",
    "ds = client.ts_query('Bike_Share_Trip', query)"
   ]
  },
  {
   "cell_type": "code",
   "execution_count": null,
   "metadata": {
    "collapsed": false
   },
   "outputs": [],
   "source": [
    "# Import the Pandas library\n",
    "import pandas as pd\n",
    "\n",
    "# Convert our result set into a Pandas data frame\n",
    "df = pd.DataFrame(ds.rows)\n",
    "\n",
    "# Set our column names manually\n",
    "df.columns = ['Start Station','Rides']\n",
    "\n",
    "# Sort our output by number of rides starting at a station \n",
    "# and then output the first 10 records\n",
    "df.sort_values('Rides', ascending=False).head(10)"
   ]
  },
  {
   "cell_type": "code",
   "execution_count": null,
   "metadata": {
    "collapsed": true
   },
   "outputs": [],
   "source": [
    "# SQL Group By query returns the number of rides starting at a station in September 2014\n",
    "query = \"\"\"\n",
    "SELECT \n",
    "    end_station, count(end_station) \n",
    "FROM Bike_Share_Trip WHERE \n",
    "    start_date > '2014-09-01 00:00:00' AND \n",
    "    start_date < '2014-09-30 23:59:59' \n",
    "GROUP BY \n",
    "    end_station\n",
    "\"\"\"\n",
    "\n",
    "# Use ts_query to execute our query and load the result set into ds\n",
    "ds = client.ts_query('Bike_Share_Trip', query)"
   ]
  },
  {
   "cell_type": "code",
   "execution_count": null,
   "metadata": {
    "collapsed": false
   },
   "outputs": [],
   "source": [
    "# Convert our result set into a Pandas data frame\n",
    "df = pd.DataFrame(ds.rows)\n",
    "\n",
    "# Set our column names manually\n",
    "df.columns = ['End Station','Rides']\n",
    "\n",
    "# Sort our output by number of rides starting at a station \n",
    "# and then output the first 10 records\n",
    "df.sort_values('Rides', ascending=False).head(10)"
   ]
  },
  {
   "cell_type": "code",
   "execution_count": null,
   "metadata": {
    "collapsed": false
   },
   "outputs": [],
   "source": [
    "# SQL Group By query returns the number of rides by station pair (start/end) September 2014\n",
    "query = \"\"\"\n",
    "SELECT \n",
    "    start_station, end_station, count(start_station) \n",
    "FROM Bike_Share_Trip WHERE \n",
    "    start_date > '2014-09-01 00:00:00' AND \n",
    "    start_date < '2014-09-30 23:59:59' \n",
    "GROUP BY \n",
    "    start_station, end_station\n",
    "\"\"\"\n",
    "\n",
    "# Use ts_query to execute our query and load the result set into ds\n",
    "ds = client.ts_query('Bike_Share_Trip', query)"
   ]
  },
  {
   "cell_type": "code",
   "execution_count": null,
   "metadata": {
    "collapsed": false
   },
   "outputs": [],
   "source": [
    "# Convert our result set into a Pandas data frame\n",
    "df = pd.DataFrame(ds.rows)\n",
    "\n",
    "# Set our column names manually\n",
    "df.columns = ['Start Station','End Station','Rides']\n",
    "\n",
    "# Sort our output by number of rides per station pair descending\n",
    "df.sort_values('Rides', ascending=False).head(10)"
   ]
  },
  {
   "cell_type": "code",
   "execution_count": null,
   "metadata": {
    "collapsed": true
   },
   "outputs": [],
   "source": []
  }
 ],
 "metadata": {
  "kernelspec": {
   "display_name": "Python 2",
   "language": "python",
   "name": "python2"
  },
  "language_info": {
   "codemirror_mode": {
    "name": "ipython",
    "version": 2
   },
   "file_extension": ".py",
   "mimetype": "text/x-python",
   "name": "python",
   "nbconvert_exporter": "python",
   "pygments_lexer": "ipython2",
   "version": "2.7.11"
  }
 },
 "nbformat": 4,
 "nbformat_minor": 0
}
