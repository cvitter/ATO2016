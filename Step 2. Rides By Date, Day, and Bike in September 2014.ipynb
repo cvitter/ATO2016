{
 "cells": [
  {
   "cell_type": "code",
   "execution_count": null,
   "metadata": {
    "collapsed": true
   },
   "outputs": [],
   "source": [
    "# Import the Riak client and instantiate the client telling it to\n",
    "# convert timestamp fields from Epoch to dates\n",
    "from riak import RiakClient\n",
    "client = RiakClient(transport_options={'ts_convert_timestamp': True})"
   ]
  },
  {
   "cell_type": "code",
   "execution_count": null,
   "metadata": {
    "collapsed": true
   },
   "outputs": [],
   "source": [
    "# SQL Query asks for all records for September 2014\n",
    "query = \"\"\"\n",
    "SELECT start_date, duration, bike_no FROM Bike_Share_Trip WHERE \n",
    "    start_date > '2014-09-01 00:00:00' AND \n",
    "    start_date < '2014-09-30 23:59:59';\n",
    "\"\"\"\n",
    "\n",
    "# Use ts_query to execute our query and load the result set into ds\n",
    "ds = client.ts_query('Bike_Share_Trip', query)"
   ]
  },
  {
   "cell_type": "code",
   "execution_count": null,
   "metadata": {
    "collapsed": false
   },
   "outputs": [],
   "source": [
    "# Import the Pandas library and convert our result set \n",
    "# into a Pandas data frame\n",
    "import pandas as pd\n",
    "df = pd.DataFrame(ds.rows)\n",
    "\n",
    "# Set our column names manually\n",
    "df.columns = ['Date','Duration','Bike']\n",
    "\n",
    "# Make a copy of our dataframe for the first example\n",
    "df_example_one = df.copy()"
   ]
  },
  {
   "cell_type": "code",
   "execution_count": null,
   "metadata": {
    "collapsed": true
   },
   "outputs": [],
   "source": [
    "# Convert our dates to simply have the date\n",
    "df_example_one['Date'] = df_example_one['Date'].dt.date"
   ]
  },
  {
   "cell_type": "code",
   "execution_count": null,
   "metadata": {
    "collapsed": false
   },
   "outputs": [],
   "source": [
    "# Import matplotlib and set the library to run inline\n",
    "import matplotlib as plt\n",
    "%matplotlib inline\n",
    "\n",
    "# Count the number of records per date (value_counts) and plot the\n",
    "# result as number of rides per day\n",
    "ax = df_example_one['Date'].value_counts().plot(figsize=(14,7))\n",
    "ax.set_ylabel('Rides', fontsize=18)\n",
    "ax.set_xlabel('Date', fontsize=18)"
   ]
  },
  {
   "cell_type": "code",
   "execution_count": null,
   "metadata": {
    "collapsed": false
   },
   "outputs": [],
   "source": [
    "# Make a copy of our dataframe for the second example\n",
    "df_example_two = df.copy()"
   ]
  },
  {
   "cell_type": "code",
   "execution_count": null,
   "metadata": {
    "collapsed": false
   },
   "outputs": [],
   "source": [
    "# Convert the date to the day of week\n",
    "df_example_two['Date'] = df_example_two['Date'].dt.weekday_name\n",
    "\n",
    "# Count the number of records per day of the week (value_counts) and plot the result\n",
    "ax = df_example_two['Date'].value_counts().plot(figsize=(14,7))\n",
    "ax.set_ylabel('Rides', fontsize=18)\n",
    "ax.set_xlabel('Day of Week', fontsize=18)"
   ]
  },
  {
   "cell_type": "code",
   "execution_count": null,
   "metadata": {
    "collapsed": false
   },
   "outputs": [],
   "source": [
    "# How much are individual bikes being used per month in terms of trip duration?\n",
    "#################################################################################\n",
    "# Create a new copy of our dataframe\n",
    "df_bike_counts = df.copy()\n",
    "\n",
    "# Delete the Date column because we don't need it\n",
    "df_bike_counts.drop('Date', axis=1, inplace=True)\n",
    "\n",
    "# Do a group by Bike and sum to get total trip duration for each bike\n",
    "df_bike_groupby = df_bike_counts.groupby('Bike').sum()"
   ]
  },
  {
   "cell_type": "code",
   "execution_count": null,
   "metadata": {
    "collapsed": false
   },
   "outputs": [],
   "source": [
    "# Print out a list of bike's by Duration descending\n",
    "df_bike_groupby.sort_values('Duration', ascending=False).head(10)"
   ]
  },
  {
   "cell_type": "code",
   "execution_count": null,
   "metadata": {
    "collapsed": false
   },
   "outputs": [],
   "source": [
    "# Demonstrate the same groupby example using native TS SQL querying \n",
    "#################################################################################\n",
    "# SQL Query asks for all records for September 2014 grouped by bike_no and summing\n",
    "# on the duration of all rides for the bike_no for the month\n",
    "query = \"\"\"\n",
    "SELECT bike_no, sum(duration) FROM Bike_Share_Trip WHERE \n",
    "    start_date > '2014-09-01 00:00:00' AND \n",
    "    start_date < '2014-09-30 23:59:59'\n",
    "    GROUP BY bike_no;\n",
    "\"\"\"\n",
    "\n",
    "# Use ts_query to execute our query and load the result set into ds\n",
    "ds = client.ts_query('Bike_Share_Trip', query)\n",
    "\n",
    "# Load the result set into a dataframe\n",
    "df_groupby = pd.DataFrame(ds.rows)\n",
    "df_groupby.columns = ['Bike', 'Duration']\n",
    "\n",
    "# Sort the dataframe by duration and output\n",
    "df_groupby.sort_values('Duration', ascending=False).head(10)"
   ]
  },
  {
   "cell_type": "code",
   "execution_count": null,
   "metadata": {
    "collapsed": true
   },
   "outputs": [],
   "source": []
  }
 ],
 "metadata": {
  "kernelspec": {
   "display_name": "Python 2",
   "language": "python",
   "name": "python2"
  },
  "language_info": {
   "codemirror_mode": {
    "name": "ipython",
    "version": 2
   },
   "file_extension": ".py",
   "mimetype": "text/x-python",
   "name": "python",
   "nbconvert_exporter": "python",
   "pygments_lexer": "ipython2",
   "version": "2.7.11"
  }
 },
 "nbformat": 4,
 "nbformat_minor": 0
}
