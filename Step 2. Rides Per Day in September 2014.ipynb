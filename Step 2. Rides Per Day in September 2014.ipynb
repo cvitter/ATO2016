{
 "cells": [
  {
   "cell_type": "code",
   "execution_count": null,
   "metadata": {
    "collapsed": true
   },
   "outputs": [],
   "source": [
    "# Import the Riak client and instantiate the client telling it to\n",
    "# convert timestamp fields from Epoch to dates\n",
    "from riak import RiakClient\n",
    "client = RiakClient(transport_options={'ts_convert_timestamp': True})"
   ]
  },
  {
   "cell_type": "code",
   "execution_count": null,
   "metadata": {
    "collapsed": true
   },
   "outputs": [],
   "source": [
    "# SQL Query asks for all records for September 2014\n",
    "query = \"\"\"\n",
    "SELECT start_date, duration, bike_no FROM Bike_Share_Trip WHERE \n",
    "    start_date > '2014-09-01 00:00:00' AND \n",
    "    start_date < '2014-09-30 23:59:59';\n",
    "\"\"\"\n",
    "\n",
    "# Use ts_query to execute our query and load the result set into ds\n",
    "ds = client.ts_query('Bike_Share_Trip', query)"
   ]
  },
  {
   "cell_type": "code",
   "execution_count": null,
   "metadata": {
    "collapsed": false
   },
   "outputs": [],
   "source": [
    "# Import the Pandas library and convert our result set \n",
    "# into a Pandas data frame\n",
    "import pandas as pd\n",
    "df = pd.DataFrame(ds.rows)\n",
    "\n",
    "# Set our column names manually\n",
    "df.columns = ['Date','Duration','Bike']\n",
    "\n",
    "# Convert our dates to simply have the date\n",
    "df['Date'] = df['Date'].dt.date\n",
    "\n",
    "# Index the data by Date\n",
    "df.set_index('Date')"
   ]
  },
  {
   "cell_type": "code",
   "execution_count": null,
   "metadata": {
    "collapsed": false
   },
   "outputs": [],
   "source": [
    "# Import matplotlib and set the library to run inline\n",
    "import matplotlib as plt\n",
    "%matplotlib inline\n",
    "\n",
    "# Count the number of records per date (value_counts) and plot the\n",
    "# result as number of rides per day\n",
    "ax=df['Date'].value_counts().plot(figsize=(14,7))\n",
    "ax.set_ylabel('Rides', fontsize=18)\n",
    "ax.set_xlabel('Date', fontsize=18)"
   ]
  },
  {
   "cell_type": "code",
   "execution_count": null,
   "metadata": {
    "collapsed": true
   },
   "outputs": [],
   "source": []
  }
 ],
 "metadata": {
  "kernelspec": {
   "display_name": "Python 2",
   "language": "python",
   "name": "python2"
  },
  "language_info": {
   "codemirror_mode": {
    "name": "ipython",
    "version": 2
   },
   "file_extension": ".py",
   "mimetype": "text/x-python",
   "name": "python",
   "nbconvert_exporter": "python",
   "pygments_lexer": "ipython2",
   "version": "2.7.11"
  }
 },
 "nbformat": 4,
 "nbformat_minor": 0
}
