{
 "cells": [
  {
   "cell_type": "code",
   "execution_count": 1,
   "metadata": {
    "collapsed": true
   },
   "outputs": [],
   "source": [
    "# Import the Riak client and instantiate the client telling it to\n",
    "# convert timestamp fields from Epoch to dates\n",
    "from riak import RiakClient\n",
    "client = RiakClient(transport_options={'ts_convert_timestamp': True})"
   ]
  },
  {
   "cell_type": "code",
   "execution_count": 2,
   "metadata": {
    "collapsed": true
   },
   "outputs": [],
   "source": [
    "# SQL Query asks for all records for the month of September 2014\n",
    "query = \"\"\"\n",
    "SELECT * FROM Bike_Share_Trip WHERE \n",
    "    start_date > '2014-09-01 00:00:00' AND \n",
    "    start_date < '2014-09-30 23:59:59';\n",
    "\"\"\"\n",
    "\n",
    "# Use ts_query to execute our query and load the result set into ds\n",
    "ds = client.ts_query('Bike_Share_Trip', query)"
   ]
  },
  {
   "cell_type": "code",
   "execution_count": 3,
   "metadata": {
    "collapsed": true
   },
   "outputs": [],
   "source": [
    "# Import the Pandas library and convert our result set \n",
    "# into a Pandas data frame\n",
    "import pandas as pd\n",
    "df = pd.DataFrame(ds.rows)"
   ]
  },
  {
   "cell_type": "code",
   "execution_count": 4,
   "metadata": {
    "collapsed": false
   },
   "outputs": [
    {
     "name": "stdout",
     "output_type": "stream",
     "text": [
      "        0     1                   2                                     3   4  \\\n",
      "0  432947   569 2014-09-01 00:05:00              South Van Ness at Market  66   \n",
      "1  432948   568 2014-09-01 00:05:00              South Van Ness at Market  66   \n",
      "2  432949   538 2014-09-01 00:05:00              South Van Ness at Market  66   \n",
      "3  432950  6712 2014-09-01 03:16:00  Harry Bridges Plaza (Ferry Building)  50   \n",
      "4  432951   619 2014-09-01 04:21:00                    Powell Street BART  39   \n",
      "\n",
      "                    5                                         6   7    8  \n",
      "0 2014-09-01 00:15:00                             5th at Howard  57  318  \n",
      "1 2014-09-01 00:15:00                             5th at Howard  57  461  \n",
      "2 2014-09-01 00:14:00                             5th at Howard  57  466  \n",
      "3 2014-09-01 05:08:00  San Francisco Caltrain (Townsend at 4th)  70  259  \n",
      "4 2014-09-01 04:32:00                           Townsend at 7th  65  335  \n"
     ]
    }
   ],
   "source": [
    "# Output the first 5 rows our data\n",
    "print df.head()"
   ]
  },
  {
   "cell_type": "code",
   "execution_count": 5,
   "metadata": {
    "collapsed": false
   },
   "outputs": [
    {
     "name": "stdout",
     "output_type": "stream",
     "text": [
      "                   0              1             4             7             8\n",
      "count   31682.000000   31682.000000  31682.000000  31682.000000  31682.000000\n",
      "mean   454839.785430    1046.651758     58.297235     58.487375    420.120068\n",
      "std     12692.580723    5763.976438     17.157521     17.098136    160.124872\n",
      "min    432947.000000      60.000000      2.000000      2.000000      9.000000\n",
      "25%    443852.250000     346.000000     50.000000     50.000000    325.000000\n",
      "50%    454691.500000     512.000000     62.000000     63.000000    436.000000\n",
      "75%    465817.750000     738.000000     70.000000     70.000000    544.000000\n",
      "max    477116.000000  489435.000000     84.000000     84.000000    878.000000\n"
     ]
    }
   ],
   "source": [
    "print df.describe()"
   ]
  },
  {
   "cell_type": "code",
   "execution_count": null,
   "metadata": {
    "collapsed": true
   },
   "outputs": [],
   "source": []
  }
 ],
 "metadata": {
  "kernelspec": {
   "display_name": "Python 2",
   "language": "python",
   "name": "python2"
  },
  "language_info": {
   "codemirror_mode": {
    "name": "ipython",
    "version": 2
   },
   "file_extension": ".py",
   "mimetype": "text/x-python",
   "name": "python",
   "nbconvert_exporter": "python",
   "pygments_lexer": "ipython2",
   "version": "2.7.11"
  }
 },
 "nbformat": 4,
 "nbformat_minor": 0
}
