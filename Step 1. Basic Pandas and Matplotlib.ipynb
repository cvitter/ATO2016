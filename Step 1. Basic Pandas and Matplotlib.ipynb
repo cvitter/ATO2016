{
 "cells": [
  {
   "cell_type": "code",
   "execution_count": null,
   "metadata": {
    "collapsed": true
   },
   "outputs": [],
   "source": [
    "# Import the Riak client and instantiate the client telling it to\n",
    "# convert timestamp fields from Epoch to dates\n",
    "from riak import RiakClient\n",
    "client = RiakClient(transport_options={'ts_convert_timestamp': True})"
   ]
  },
  {
   "cell_type": "code",
   "execution_count": null,
   "metadata": {
    "collapsed": true
   },
   "outputs": [],
   "source": [
    "# SQL Query asks for all records for September 1st, 2014\n",
    "query = \"\"\"\n",
    "SELECT start_date, duration, bike_no FROM Bike_Share_Trip WHERE \n",
    "    start_date > '2014-09-01 00:00:00' AND \n",
    "    start_date < '2014-09-01 23:59:59';\n",
    "\"\"\"\n",
    "\n",
    "# Use ts_query to execute our query and load the result set into ds\n",
    "ds = client.ts_query('Bike_Share_Trip', query)"
   ]
  },
  {
   "cell_type": "code",
   "execution_count": null,
   "metadata": {
    "collapsed": false
   },
   "outputs": [],
   "source": [
    "# Import the Pandas library and convert our result set \n",
    "# into a Pandas data frame\n",
    "import pandas as pd\n",
    "df = pd.DataFrame(ds.rows)\n",
    "\n",
    "# Set our column names manually and index the data by date\n",
    "df.columns = ['Date','Duration','Bike']"
   ]
  },
  {
   "cell_type": "code",
   "execution_count": null,
   "metadata": {
    "collapsed": false
   },
   "outputs": [],
   "source": [
    "# Output the first 5 rows our data\n",
    "df.head()"
   ]
  },
  {
   "cell_type": "code",
   "execution_count": null,
   "metadata": {
    "collapsed": false
   },
   "outputs": [],
   "source": [
    "# Describe() outputs basic information about our data\n",
    "df.describe()"
   ]
  },
  {
   "cell_type": "code",
   "execution_count": null,
   "metadata": {
    "collapsed": false
   },
   "outputs": [],
   "source": [
    "# How many records are we working on?\n",
    "df.count()"
   ]
  },
  {
   "cell_type": "code",
   "execution_count": null,
   "metadata": {
    "collapsed": false
   },
   "outputs": [],
   "source": [
    "# What's the shortest duration of the day? (Bike #16 for 1:37)\n",
    "df.min()"
   ]
  },
  {
   "cell_type": "code",
   "execution_count": null,
   "metadata": {
    "collapsed": false
   },
   "outputs": [],
   "source": [
    "# What's the longest duration of the day? (Bike #878 for 19 hours +)\n",
    "df.max()"
   ]
  },
  {
   "cell_type": "code",
   "execution_count": null,
   "metadata": {
    "collapsed": true
   },
   "outputs": [],
   "source": [
    "# Import matplotlib and set the library to run inline\n",
    "import matplotlib as plt\n",
    "%matplotlib inline"
   ]
  },
  {
   "cell_type": "code",
   "execution_count": null,
   "metadata": {
    "collapsed": false
   },
   "outputs": [],
   "source": [
    "# Plot our data for ride duration and start time\n",
    "ax=df.plot(x='Date', y='Duration', figsize=(12,7))\n",
    "ax.set_ylabel('Duration in Secs.', fontsize=18)\n",
    "ax.set_xlabel('Date/time', fontsize=18)"
   ]
  },
  {
   "cell_type": "code",
   "execution_count": null,
   "metadata": {
    "collapsed": true
   },
   "outputs": [],
   "source": []
  }
 ],
 "metadata": {
  "kernelspec": {
   "display_name": "Python 2",
   "language": "python",
   "name": "python2"
  },
  "language_info": {
   "codemirror_mode": {
    "name": "ipython",
    "version": 2
   },
   "file_extension": ".py",
   "mimetype": "text/x-python",
   "name": "python",
   "nbconvert_exporter": "python",
   "pygments_lexer": "ipython2",
   "version": "2.7.11"
  }
 },
 "nbformat": 4,
 "nbformat_minor": 0
}
